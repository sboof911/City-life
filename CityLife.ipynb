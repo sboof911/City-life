{
 "cells": [
  {
   "cell_type": "code",
   "execution_count": 1,
   "metadata": {},
   "outputs": [],
   "source": [
    "import warnings\n",
    "warnings.filterwarnings(\"ignore\")"
   ]
  },
  {
   "cell_type": "markdown",
   "metadata": {},
   "source": [
    "# Data Loading and Ploting"
   ]
  },
  {
   "cell_type": "code",
   "execution_count": 2,
   "metadata": {},
   "outputs": [],
   "source": [
    "DataSet_path = \"/teamspace/s3_folders/CursusDataSet/CityLife\""
   ]
  },
  {
   "cell_type": "markdown",
   "metadata": {},
   "source": [
    "## Loading Rush Hours"
   ]
  },
  {
   "cell_type": "code",
   "execution_count": null,
   "metadata": {},
   "outputs": [],
   "source": [
    "import os\n",
    "import pandas as pd\n",
    "\n",
    "rush_hours_df = pd.read_csv(os.path.join(DataSet_path, \"rush_hours_empty.csv\"))\n",
    "rush_hours_df"
   ]
  },
  {
   "cell_type": "markdown",
   "metadata": {},
   "source": [
    "## Loading Taxi Locations"
   ]
  },
  {
   "cell_type": "code",
   "execution_count": null,
   "metadata": {},
   "outputs": [],
   "source": [
    "taxi_locations_df = pd.read_csv(os.path.join(DataSet_path, \"taxi_locations.csv\"))\n",
    "taxi_locations_df"
   ]
  },
  {
   "cell_type": "code",
   "execution_count": null,
   "metadata": {},
   "outputs": [],
   "source": [
    "taxi_locations_df.info()"
   ]
  },
  {
   "cell_type": "markdown",
   "metadata": {},
   "source": [
    "## Editing, Extracting DataTime Data"
   ]
  },
  {
   "cell_type": "code",
   "execution_count": null,
   "metadata": {},
   "outputs": [],
   "source": [
    "# Extracting hour, day of week, and month for temporal analysis\n",
    "taxi_locations_df['Trip Start Timestamp'] = pd.to_datetime(taxi_locations_df['Trip Start Timestamp'], format=\"%m/%d/%Y %I:%M:%S %p\", errors='coerce')\n",
    "taxi_locations_df['Trip End Timestamp'] = pd.to_datetime(taxi_locations_df['Trip End Timestamp'], format=\"%m/%d/%Y %I:%M:%S %p\", errors='coerce')\n",
    "taxi_locations_df['Trip Start Hour'] = taxi_locations_df['Trip Start Timestamp'].dt.hour\n",
    "taxi_locations_df['Trip Start Day'] = taxi_locations_df['Trip Start Timestamp'].dt.day_name()\n",
    "taxi_locations_df['Trip Start Month'] = taxi_locations_df['Trip Start Timestamp'].dt.month_name()\n",
    "\n",
    "# Count of trips by hour\n",
    "hourly_trip_counts = taxi_locations_df['Trip Start Hour'].value_counts().sort_index()\n",
    "\n",
    "# Count of trips by day of the week\n",
    "daily_trip_counts = taxi_locations_df['Trip Start Day'].value_counts().reindex(['Monday', 'Tuesday', 'Wednesday', 'Thursday', 'Friday', 'Saturday', 'Sunday'])\n",
    "\n",
    "# Count of trips by month\n",
    "monthly_trip_counts = taxi_locations_df['Trip Start Month'].value_counts().sort_index()\n",
    "\n",
    "taxi_locations_df"
   ]
  },
  {
   "cell_type": "markdown",
   "metadata": {},
   "source": [
    "## Ploting Trips Number By DataTime Type"
   ]
  },
  {
   "cell_type": "code",
   "execution_count": 7,
   "metadata": {},
   "outputs": [],
   "source": [
    "%%capture\n",
    "\n",
    "%pip install seaborn"
   ]
  },
  {
   "cell_type": "code",
   "execution_count": null,
   "metadata": {},
   "outputs": [],
   "source": [
    "import matplotlib.pyplot as plt\n",
    "import seaborn as sns\n",
    "\n",
    "sns.set_style(\"dark\")\n",
    "colors = sns.color_palette(\"Set2\", 8)\n",
    "\n",
    "# Create a single figure for all three plots\n",
    "fig, axes = plt.subplots(3, 1, figsize=(15, 20), gridspec_kw={'hspace': 0.4})\n",
    "\n",
    "# Plotting Number of Trips by Hour\n",
    "sns.barplot(x=hourly_trip_counts.index, y=hourly_trip_counts.values, ax=axes[0], palette=colors)\n",
    "axes[0].set_title('Number of Trips by Hour of the Day', fontsize=16)\n",
    "axes[0].set_xlabel('Hour of the Day', fontsize=12)\n",
    "axes[0].set_ylabel('Number of Trips', fontsize=12)\n",
    "axes[0].tick_params(axis='x', rotation=0)\n",
    "axes[0].grid(axis='y', linestyle='--', alpha=0.7)\n",
    "\n",
    "# Annotate the peaks\n",
    "for i, value in enumerate(hourly_trip_counts.values):\n",
    "    axes[0].text(i, value + 5, f'{value}', ha='center', fontsize=10, color='black')\n",
    "\n",
    "# Plotting Number of Trips by Day of the Week\n",
    "sns.barplot(x=daily_trip_counts.index, y=daily_trip_counts.values, ax=axes[1], palette=colors)\n",
    "axes[1].set_title('Number of Trips by Day of the Week', fontsize=16)\n",
    "axes[1].set_xlabel('Day of the Week', fontsize=12)\n",
    "axes[1].set_ylabel('Number of Trips', fontsize=12)\n",
    "axes[1].tick_params(axis='x', rotation=45)\n",
    "axes[1].grid(axis='y', linestyle='--', alpha=0.7)\n",
    "\n",
    "# Annotate the peaks\n",
    "for i, value in enumerate(daily_trip_counts.values):\n",
    "    axes[1].text(i, value + 5, f'{value}', ha='center', fontsize=10, color='black')\n",
    "\n",
    "# Plotting Number of Trips by Month\n",
    "sns.barplot(x=monthly_trip_counts.index, y=monthly_trip_counts.values, ax=axes[2], palette=colors)\n",
    "axes[2].set_title('Number of Trips by Month', fontsize=16)\n",
    "axes[2].set_xlabel('Month', fontsize=12)\n",
    "axes[2].set_ylabel('Number of Trips', fontsize=12)\n",
    "axes[2].tick_params(axis='x', rotation=45)\n",
    "axes[2].grid(axis='y', linestyle='--', alpha=0.7)\n",
    "\n",
    "# Annotate the peaks\n",
    "for i, value in enumerate(monthly_trip_counts.values):\n",
    "    axes[2].text(i, value + 5, f'{value}', ha='center', fontsize=10, color='black')\n",
    "\n",
    "# Display the plots\n",
    "plt.show()"
   ]
  },
  {
   "cell_type": "markdown",
   "metadata": {},
   "source": [
    "# Most popular areas"
   ]
  },
  {
   "cell_type": "markdown",
   "metadata": {},
   "source": [
    "## Loading PickPoints and DropOffs"
   ]
  },
  {
   "cell_type": "code",
   "execution_count": 9,
   "metadata": {},
   "outputs": [],
   "source": [
    "pickpoints_df = taxi_locations_df[[\"Pickup Centroid Latitude\", \"Pickup Centroid Longitude\"]].dropna()\n",
    "drop_offs_df = taxi_locations_df[[\"Dropoff Centroid Latitude\", \"Dropoff Centroid Longitude\"]].dropna()\n",
    "pickpoints_df.reset_index(inplace=True)\n",
    "drop_offs_df.reset_index(inplace=True)"
   ]
  },
  {
   "cell_type": "markdown",
   "metadata": {},
   "source": [
    "## Clustering Analysis Of Pick Point And Drop Of\n",
    "\n",
    "- Conduct clustering analysis of pick point and drop off locations based on their\n",
    "coordinates. Clusters might be different for each of the categories (pickpoints and\n",
    "drop-offs).\n",
    "\n",
    "```\n",
    "FAISS KMeans Choice Argument:\n",
    "Because it’s fast, GPU-capable, and ideal for huge datasets.\n",
    "```"
   ]
  },
  {
   "cell_type": "code",
   "execution_count": 6,
   "metadata": {},
   "outputs": [],
   "source": [
    "%%capture\n",
    "\n",
    "%conda install -y -c pytorch faiss-gpu=1.7.2"
   ]
  },
  {
   "cell_type": "code",
   "execution_count": null,
   "metadata": {},
   "outputs": [],
   "source": [
    "import faiss\n",
    "\n",
    "use_gpu = faiss.get_num_gpus() > 0\n",
    "print(f\"Using GPU: {use_gpu}\")"
   ]
  }
 ],
 "metadata": {
  "language_info": {
   "name": "python"
  }
 },
 "nbformat": 4,
 "nbformat_minor": 2
}
